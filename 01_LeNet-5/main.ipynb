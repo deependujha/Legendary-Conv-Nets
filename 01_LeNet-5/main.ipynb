{
 "cells": [
  {
   "cell_type": "markdown",
   "metadata": {},
   "source": [
    "## LeNet implementation in PyTorch 🏋🏻\n",
    "\n",
    "1. Load MNIST dataset\n",
    "2. Create ConvNet (LeNet)\n",
    "3. Train model\n",
    "4. Evaluate model\n",
    "\n",
    "---\n",
    "\n",
    "### 1. Load MNIST dataset"
   ]
  },
  {
   "cell_type": "code",
   "execution_count": 42,
   "metadata": {},
   "outputs": [],
   "source": [
    "import torch\n",
    "import torch.nn as nn\n",
    "import torchvision\n",
    "from torchvision.transforms import v2"
   ]
  },
  {
   "cell_type": "code",
   "execution_count": 43,
   "metadata": {},
   "outputs": [],
   "source": [
    "transforms = v2.Compose(\n",
    "    [\n",
    "        v2.PILToTensor(),\n",
    "        v2.ToDtype(torch.float32, scale=True),\n",
    "    ]\n",
    ")\n",
    "\n",
    "# Create datasets for training & validation, download if necessary\n",
    "training_set = torchvision.datasets.MNIST(\n",
    "    \"./data\", train=True, transform=transforms, download=True\n",
    ")\n",
    "\n",
    "# Create data loaders for our datasets; shuffle for training, not for validation\n",
    "training_loader = torch.utils.data.DataLoader(training_set, batch_size=4, shuffle=True)"
   ]
  },
  {
   "cell_type": "code",
   "execution_count": 44,
   "metadata": {},
   "outputs": [
    {
     "name": "stdout",
     "output_type": "stream",
     "text": [
      "images.shape=torch.Size([4, 1, 28, 28]); labels=tensor([8, 9, 9, 2])\n"
     ]
    }
   ],
   "source": [
    "data_iter = iter(training_loader)\n",
    "images, labels = next(data_iter)\n",
    "print(f\"{images.shape=}; {labels=}\")"
   ]
  },
  {
   "cell_type": "markdown",
   "metadata": {},
   "source": [
    "So, we have a batch of 4 images and their labels are `5, 8, 3, 8`.\n",
    "\n",
    "### Let's visualize them."
   ]
  },
  {
   "cell_type": "code",
   "execution_count": 45,
   "metadata": {},
   "outputs": [
    {
     "data": {
      "image/png": "[encoded data removed]",
      "text/plain": [
       "<Figure size 640x480 with 4 Axes>"
      ]
     },
     "metadata": {},
     "output_type": "display_data"
    }
   ],
   "source": [
    "import matplotlib.pyplot as plt\n",
    "\n",
    "fig, ax = plt.subplots(ncols=4)  # 1 row & 4 column\n",
    "\n",
    "for i in range(4):\n",
    "    ax[i].imshow(images[i].permute(1, 2, 0))\n",
    "    ax[i].set_title(f\"label = {labels[i]}\")\n",
    "    ax[i].axis('off')\n",
    "\n",
    "plt.show()"
   ]
  },
  {
   "cell_type": "markdown",
   "metadata": {},
   "source": [
    "---\n",
    "\n",
    "### 2. Now, let's recreate `LeNet-5` ConvNet architecture.\n",
    "\n",
    "![LeNet](../00_assets/LeNet.png)"
   ]
  },
  {
   "cell_type": "code",
   "execution_count": 46,
   "metadata": {},
   "outputs": [],
   "source": [
    "class LeNetModel(nn.Module):\n",
    "    def __init__(self):\n",
    "        super(LeNetModel, self).__init__()\n",
    "        self.conv1 = nn.Conv2d(1, 6, 5)\n",
    "        self.relu = nn.ReLU()\n",
    "        self.pool1 = nn.MaxPool2d(2)\n",
    "        self.conv2 = nn.Conv2d(6, 16, 5)\n",
    "        self.pool2 = nn.MaxPool2d(2)\n",
    "        self.fc1 = nn.Linear(256, 120)\n",
    "        self.fc2 = nn.Linear(120, 84)\n",
    "        self.fc3 = nn.Linear(84, 10)\n",
    "\n",
    "    def forward(self, x):\n",
    "        y = self.conv1(x)\n",
    "        y = self.relu(y)\n",
    "        y = self.pool1(y)\n",
    "        y = self.conv2(y)\n",
    "        y = self.relu(y)\n",
    "        y = self.pool2(y)\n",
    "        y = y.view(y.shape[0], -1)\n",
    "        y = self.fc1(y)\n",
    "        y = self.relu(y)\n",
    "        y = self.fc2(y)\n",
    "        y = self.relu(y)\n",
    "        y = self.fc3(y)\n",
    "        return y"
   ]
  },
  {
   "cell_type": "code",
   "execution_count": 47,
   "metadata": {},
   "outputs": [],
   "source": [
    "device = \"cuda\" if torch.cuda.is_available() else \"cpu\"\n",
    "\n",
    "model = LeNetModel().to(device)\n",
    "optimizer = torch.optim.Adam(model.parameters(), lr=0.0001) # learning rate needs to be really low.\n",
    "loss_fn = torch.nn.CrossEntropyLoss()"
   ]
  },
  {
   "cell_type": "markdown",
   "metadata": {},
   "source": [
    "---\n",
    "\n",
    "### 3. Train the model"
   ]
  },
  {
   "cell_type": "code",
   "execution_count": 48,
   "metadata": {},
   "outputs": [
    {
     "name": "stdout",
     "output_type": "stream",
     "text": [
      "Epoch: 1\n",
      "    average training loss: => 0.0360366627573967\n",
      "Epoch: 2\n",
      "    average training loss: => 0.02064746432006359\n",
      "Epoch: 3\n",
      "    average training loss: => 0.017217006534337997\n",
      "Epoch: 4\n",
      "    average training loss: => 0.014333718456327915\n",
      "Epoch: 5\n",
      "    average training loss: => 0.00955561175942421\n",
      "Epoch: 6\n",
      "    average training loss: => 0.00798304844647646\n",
      "Epoch: 7\n",
      "    average training loss: => 0.007318887859582901\n",
      "Epoch: 8\n",
      "    average training loss: => 0.005758797284215689\n",
      "Epoch: 9\n",
      "    average training loss: => 0.006789619568735361\n",
      "Epoch: 10\n",
      "    average training loss: => 0.0050499760545790195\n"
     ]
    }
   ],
   "source": [
    "all_epoch = 10\n",
    "prev_acc = 0\n",
    "for current_epoch in range(all_epoch):\n",
    "    model.train()\n",
    "    print(f\"Epoch: {current_epoch+1}\")\n",
    "    for idx, (train_x, train_label) in enumerate(training_loader):\n",
    "        train_x = train_x.to(device)\n",
    "        train_label = train_label.to(device)\n",
    "\n",
    "        optimizer.zero_grad()\n",
    "        predict_y = model(train_x)\n",
    "        loss = loss_fn(predict_y, train_label)\n",
    "        loss.backward()\n",
    "        optimizer.step()\n",
    "\n",
    "    # evaluate model for this epoch\n",
    "    model.eval()\n",
    "    total_training_loss = 0\n",
    "    with torch.no_grad():\n",
    "        for idx, (test_x, test_label) in enumerate(training_loader):\n",
    "            test_x = test_x.to(device)\n",
    "            test_label = test_label.to(device)\n",
    "            predict_y = model(test_x)\n",
    "            loss = loss_fn(predict_y, test_label)\n",
    "            total_training_loss += loss\n",
    "\n",
    "    avg_training_loss = total_training_loss / (len(training_loader) * 4)  # batch size=4\n",
    "    print(f\"    average training loss: => {avg_training_loss}\")"
   ]
  },
  {
   "cell_type": "markdown",
   "metadata": {},
   "source": [
    "---\n",
    "\n",
    "### 4. Calculate accuracy"
   ]
  },
  {
   "cell_type": "code",
   "execution_count": 49,
   "metadata": {},
   "outputs": [
    {
     "name": "stdout",
     "output_type": "stream",
     "text": [
      "total_correct_pred=59622; total_incorrect_pred=378\n",
      "accuracy: 0.9937\n"
     ]
    }
   ],
   "source": [
    "total_correct_pred = 0\n",
    "total_incorrect_pred = 0\n",
    "\n",
    "model.eval()\n",
    "with torch.no_grad():\n",
    "    for idx, (test_x, test_label) in enumerate(training_loader):\n",
    "        test_x = test_x.to(device)\n",
    "        test_label = test_label.to(device)\n",
    "        predict_y = model(test_x)\n",
    "        predict_output = torch.argmax(predict_y, dim=1)\n",
    "\n",
    "        total_correct_pred += (predict_output == test_label).sum()\n",
    "        total_incorrect_pred += (predict_output != test_label).sum()\n",
    "\n",
    "total_correct_pred = total_correct_pred.item()\n",
    "total_incorrect_pred = total_incorrect_pred.item()\n",
    "accuracy = total_correct_pred/ (total_correct_pred+total_incorrect_pred)\n",
    "\n",
    "print(f\"{total_correct_pred=}; {total_incorrect_pred=}\")\n",
    "print(f\"accuracy: {accuracy}\")"
   ]
  },
  {
   "cell_type": "markdown",
   "metadata": {},
   "source": [
    "---\n",
    "\n",
    "### 4. Visualize predictions with correct labels"
   ]
  },
  {
   "cell_type": "code",
   "execution_count": 50,
   "metadata": {},
   "outputs": [
    {
     "name": "stdout",
     "output_type": "stream",
     "text": [
      "images.shape=torch.Size([4, 1, 28, 28]); labels=tensor([9, 9, 2, 7])\n",
      "labels=tensor([9, 9, 2, 7]); predict_output=tensor([9, 9, 2, 7])\n"
     ]
    }
   ],
   "source": [
    "data_iter = iter(training_loader)\n",
    "images, labels = next(data_iter)\n",
    "print(f\"{images.shape=}; {labels=}\")\n",
    "\n",
    "# get the prediction\n",
    "model.eval()\n",
    "with torch.no_grad():\n",
    "    prediction = model(images.to(device))\n",
    "    predict_output = torch.argmax(prediction, dim=1)\n",
    "print(f\"{labels=}; {predict_output=}\")"
   ]
  },
  {
   "cell_type": "code",
   "execution_count": 51,
   "metadata": {},
   "outputs": [
    {
     "data": {
      "image/png": "[encoded data removed]",
      "text/plain": [
       "<Figure size 640x480 with 1 Axes>"
      ]
     },
     "metadata": {},
     "output_type": "display_data"
    },
    {
     "data": {
      "image/png": "[encoded data removed]",
      "text/plain": [
       "<Figure size 640x480 with 1 Axes>"
      ]
     },
     "metadata": {},
     "output_type": "display_data"
    },
    {
     "data": {
      "image/png": "[encoded data removed]",
      "text/plain": [
       "<Figure size 640x480 with 1 Axes>"
      ]
     },
     "metadata": {},
     "output_type": "display_data"
    },
    {
     "data": {
      "image/png": "[encoded data removed]",
      "text/plain": [
       "<Figure size 640x480 with 1 Axes>"
      ]
     },
     "metadata": {},
     "output_type": "display_data"
    }
   ],
   "source": [
    "def visualize_img(img_to_visualize, img_label, img_prediction):\n",
    "    color = \"red\"\n",
    "    if img_label == img_prediction:\n",
    "        color = \"green\"\n",
    "    plt.imshow(img_to_visualize.permute(1, 2, 0))\n",
    "    plt.title(f\"label={img_label}; predicted={img_prediction}\", color=color)\n",
    "    plt.axis(\"off\")\n",
    "    plt.show()\n",
    "\n",
    "\n",
    "for i in range(4):\n",
    "    visualize_img(images[i], labels[i], predict_output[i])"
   ]
  }
 ],
 "metadata": {
  "kernelspec": {
   "display_name": "Python 3",
   "language": "python",
   "name": "python3"
  },
  "language_info": {
   "codemirror_mode": {
    "name": "ipython",
    "version": 3
   },
   "file_extension": ".py",
   "mimetype": "text/x-python",
   "name": "python",
   "nbconvert_exporter": "python",
   "pygments_lexer": "ipython3",
   "version": "3.9.6"
  }
 },
 "nbformat": 4,
 "nbformat_minor": 2
}
